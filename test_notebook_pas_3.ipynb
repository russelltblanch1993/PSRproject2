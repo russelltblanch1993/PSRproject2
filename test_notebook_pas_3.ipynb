{
 "cells": [
  {
   "cell_type": "markdown",
   "metadata": {},
   "source": [
    "## Final Project Submission\n",
    "\n",
    "Please fill out:\n",
    "* Student name: \n",
    "* Student pace: self paced / part time / full time\n",
    "* Scheduled project review date/time: \n",
    "* Instructor name: \n",
    "* Blog post URL:\n"
   ]
  },
  {
   "cell_type": "markdown",
   "metadata": {},
   "source": [
    "Stakeholders:\n",
    "Current homeowners looking to increase the value of their homes\n",
    "\n",
    "Our Recommendations will provide: \n",
    "Homeowners with guidance on home renovation projects (e.g. converting half bath to full bath or adding garage/patio) that could potentially enhance the value of their homes and estimate the average increase in sales price."
   ]
  },
  {
   "cell_type": "code",
   "execution_count": 271,
   "metadata": {},
   "outputs": [],
   "source": [
    "# Import tools and libraries\n",
    "import pandas as pd\n",
    "import numpy as np\n",
    "import matplotlib.pyplot as plt\n",
    "import matplotlib.ticker as ticker\n",
    "import seaborn as sns\n",
    "import scipy.stats as stats\n",
    "import statsmodels.api as sm\n",
    "\n",
    "from statsmodels.formula.api import ols\n",
    "from sklearn.preprocessing import OrdinalEncoder\n",
    "from statsmodels.graphics import regressionplots\n",
    "from sklearn.model_selection import train_test_split, cross_validate, ShuffleSplit, KFold, cross_val_score\n",
    "from sklearn.metrics import mean_squared_error as MSE\n",
    "from sklearn.dummy import DummyRegressor\n",
    "from sklearn.linear_model import LinearRegression\n",
    "from sklearn import datasets, linear_model\n",
    "from sklearn.feature_selection import RFECV\n",
    "from sklearn.preprocessing import StandardScaler\n",
    "from itertools import combinations\n",
    "from sklearn.metrics import mean_squared_error, r2_score, median_absolute_error\n",
    "from statsmodels.tools.eval_measures import rmse\n",
    "\n",
    "sns.set(font_scale = 1)"
   ]
  },
  {
   "cell_type": "code",
   "execution_count": 272,
   "metadata": {},
   "outputs": [],
   "source": [
    "# Import main dataset as dataframe\n",
    "\n",
    "df = pd.read_csv('data/kc_house_data.csv')"
   ]
  },
  {
   "cell_type": "markdown",
   "metadata": {},
   "source": [
    "## DATA CLEANING"
   ]
  },
  {
   "cell_type": "code",
   "execution_count": 273,
   "metadata": {},
   "outputs": [
    {
     "name": "stdout",
     "output_type": "stream",
     "text": [
      "<class 'pandas.core.frame.DataFrame'>\n",
      "RangeIndex: 30155 entries, 0 to 30154\n",
      "Data columns (total 25 columns):\n",
      " #   Column         Non-Null Count  Dtype  \n",
      "---  ------         --------------  -----  \n",
      " 0   id             30155 non-null  int64  \n",
      " 1   date           30155 non-null  object \n",
      " 2   price          30155 non-null  float64\n",
      " 3   bedrooms       30155 non-null  int64  \n",
      " 4   bathrooms      30155 non-null  float64\n",
      " 5   sqft_living    30155 non-null  int64  \n",
      " 6   sqft_lot       30155 non-null  int64  \n",
      " 7   floors         30155 non-null  float64\n",
      " 8   waterfront     30155 non-null  object \n",
      " 9   greenbelt      30155 non-null  object \n",
      " 10  nuisance       30155 non-null  object \n",
      " 11  view           30155 non-null  object \n",
      " 12  condition      30155 non-null  object \n",
      " 13  grade          30155 non-null  object \n",
      " 14  heat_source    30123 non-null  object \n",
      " 15  sewer_system   30141 non-null  object \n",
      " 16  sqft_above     30155 non-null  int64  \n",
      " 17  sqft_basement  30155 non-null  int64  \n",
      " 18  sqft_garage    30155 non-null  int64  \n",
      " 19  sqft_patio     30155 non-null  int64  \n",
      " 20  yr_built       30155 non-null  int64  \n",
      " 21  yr_renovated   30155 non-null  int64  \n",
      " 22  address        30155 non-null  object \n",
      " 23  lat            30155 non-null  float64\n",
      " 24  long           30155 non-null  float64\n",
      "dtypes: float64(5), int64(10), object(10)\n",
      "memory usage: 5.8+ MB\n"
     ]
    }
   ],
   "source": [
    "# Check initial datasframe\n",
    "\n",
    "df.info()"
   ]
  },
  {
   "cell_type": "code",
   "execution_count": 274,
   "metadata": {},
   "outputs": [],
   "source": [
    "# Clean data by dropping columns deemed unncessary\n",
    "# We are only keeping our target variable (price) and variables that the homeowner can easily control/change\n",
    "\n",
    "df_model = df[['price', 'bedrooms', 'bathrooms', 'grade', 'sqft_garage', 'sqft_patio']]"
   ]
  },
  {
   "cell_type": "code",
   "execution_count": 275,
   "metadata": {},
   "outputs": [
    {
     "data": {
      "text/html": [
       "<div>\n",
       "<style scoped>\n",
       "    .dataframe tbody tr th:only-of-type {\n",
       "        vertical-align: middle;\n",
       "    }\n",
       "\n",
       "    .dataframe tbody tr th {\n",
       "        vertical-align: top;\n",
       "    }\n",
       "\n",
       "    .dataframe thead th {\n",
       "        text-align: right;\n",
       "    }\n",
       "</style>\n",
       "<table border=\"1\" class=\"dataframe\">\n",
       "  <thead>\n",
       "    <tr style=\"text-align: right;\">\n",
       "      <th></th>\n",
       "      <th>price</th>\n",
       "      <th>bedrooms</th>\n",
       "      <th>bathrooms</th>\n",
       "      <th>grade</th>\n",
       "      <th>sqft_garage</th>\n",
       "      <th>sqft_patio</th>\n",
       "    </tr>\n",
       "  </thead>\n",
       "  <tbody>\n",
       "    <tr>\n",
       "      <th>0</th>\n",
       "      <td>675000.0</td>\n",
       "      <td>4</td>\n",
       "      <td>1.0</td>\n",
       "      <td>7 Average</td>\n",
       "      <td>0</td>\n",
       "      <td>40</td>\n",
       "    </tr>\n",
       "    <tr>\n",
       "      <th>1</th>\n",
       "      <td>920000.0</td>\n",
       "      <td>5</td>\n",
       "      <td>2.5</td>\n",
       "      <td>7 Average</td>\n",
       "      <td>0</td>\n",
       "      <td>240</td>\n",
       "    </tr>\n",
       "    <tr>\n",
       "      <th>2</th>\n",
       "      <td>311000.0</td>\n",
       "      <td>6</td>\n",
       "      <td>2.0</td>\n",
       "      <td>7 Average</td>\n",
       "      <td>0</td>\n",
       "      <td>0</td>\n",
       "    </tr>\n",
       "    <tr>\n",
       "      <th>3</th>\n",
       "      <td>775000.0</td>\n",
       "      <td>3</td>\n",
       "      <td>3.0</td>\n",
       "      <td>9 Better</td>\n",
       "      <td>200</td>\n",
       "      <td>270</td>\n",
       "    </tr>\n",
       "    <tr>\n",
       "      <th>4</th>\n",
       "      <td>592500.0</td>\n",
       "      <td>2</td>\n",
       "      <td>2.0</td>\n",
       "      <td>7 Average</td>\n",
       "      <td>550</td>\n",
       "      <td>30</td>\n",
       "    </tr>\n",
       "    <tr>\n",
       "      <th>...</th>\n",
       "      <td>...</td>\n",
       "      <td>...</td>\n",
       "      <td>...</td>\n",
       "      <td>...</td>\n",
       "      <td>...</td>\n",
       "      <td>...</td>\n",
       "    </tr>\n",
       "    <tr>\n",
       "      <th>30150</th>\n",
       "      <td>1555000.0</td>\n",
       "      <td>5</td>\n",
       "      <td>2.0</td>\n",
       "      <td>8 Good</td>\n",
       "      <td>0</td>\n",
       "      <td>210</td>\n",
       "    </tr>\n",
       "    <tr>\n",
       "      <th>30151</th>\n",
       "      <td>1313000.0</td>\n",
       "      <td>3</td>\n",
       "      <td>2.0</td>\n",
       "      <td>7 Average</td>\n",
       "      <td>0</td>\n",
       "      <td>520</td>\n",
       "    </tr>\n",
       "    <tr>\n",
       "      <th>30152</th>\n",
       "      <td>800000.0</td>\n",
       "      <td>3</td>\n",
       "      <td>2.0</td>\n",
       "      <td>7 Average</td>\n",
       "      <td>240</td>\n",
       "      <td>110</td>\n",
       "    </tr>\n",
       "    <tr>\n",
       "      <th>30153</th>\n",
       "      <td>775000.0</td>\n",
       "      <td>3</td>\n",
       "      <td>2.5</td>\n",
       "      <td>8 Good</td>\n",
       "      <td>480</td>\n",
       "      <td>100</td>\n",
       "    </tr>\n",
       "    <tr>\n",
       "      <th>30154</th>\n",
       "      <td>500000.0</td>\n",
       "      <td>3</td>\n",
       "      <td>1.5</td>\n",
       "      <td>7 Average</td>\n",
       "      <td>420</td>\n",
       "      <td>0</td>\n",
       "    </tr>\n",
       "  </tbody>\n",
       "</table>\n",
       "<p>30155 rows × 6 columns</p>\n",
       "</div>"
      ],
      "text/plain": [
       "           price  bedrooms  bathrooms      grade  sqft_garage  sqft_patio\n",
       "0       675000.0         4        1.0  7 Average            0          40\n",
       "1       920000.0         5        2.5  7 Average            0         240\n",
       "2       311000.0         6        2.0  7 Average            0           0\n",
       "3       775000.0         3        3.0   9 Better          200         270\n",
       "4       592500.0         2        2.0  7 Average          550          30\n",
       "...          ...       ...        ...        ...          ...         ...\n",
       "30150  1555000.0         5        2.0     8 Good            0         210\n",
       "30151  1313000.0         3        2.0  7 Average            0         520\n",
       "30152   800000.0         3        2.0  7 Average          240         110\n",
       "30153   775000.0         3        2.5     8 Good          480         100\n",
       "30154   500000.0         3        1.5  7 Average          420           0\n",
       "\n",
       "[30155 rows x 6 columns]"
      ]
     },
     "execution_count": 275,
     "metadata": {},
     "output_type": "execute_result"
    }
   ],
   "source": [
    "df_model"
   ]
  },
  {
   "cell_type": "code",
   "execution_count": 276,
   "metadata": {},
   "outputs": [
    {
     "name": "stderr",
     "output_type": "stream",
     "text": [
      "<ipython-input-276-c457f4d0c4d0>:3: SettingWithCopyWarning: \n",
      "A value is trying to be set on a copy of a slice from a DataFrame.\n",
      "Try using .loc[row_indexer,col_indexer] = value instead\n",
      "\n",
      "See the caveats in the documentation: https://pandas.pydata.org/pandas-docs/stable/user_guide/indexing.html#returning-a-view-versus-a-copy\n",
      "  df_model['grade_num'] = df_model['grade'].str[:2].astype(np.int64)\n"
     ]
    }
   ],
   "source": [
    "# Extract numeric values from 'Grade' column and convert to integers\n",
    "\n",
    "df_model['grade_num'] = df_model['grade'].str[:2].astype(np.int64)"
   ]
  },
  {
   "cell_type": "code",
   "execution_count": 277,
   "metadata": {},
   "outputs": [
    {
     "data": {
      "text/plain": [
       "(652000.0, 2278000.0, -330000.0)"
      ]
     },
     "execution_count": 277,
     "metadata": {},
     "output_type": "execute_result"
    }
   ],
   "source": [
    "# Removing price outliers by setting lower and upper bounds\n",
    "\n",
    "iqr = (df_model['price'].quantile(0.75) - df_model['price'].quantile(0.25))\n",
    "\n",
    "upper = df_model['price'].quantile(0.75) + (1.5 * iqr)\n",
    "lower = df_model['price'].quantile(0.25) - (1.5 * iqr)\n",
    "\n",
    "iqr, upper, lower"
   ]
  },
  {
   "cell_type": "code",
   "execution_count": 278,
   "metadata": {},
   "outputs": [],
   "source": [
    "# Removing prices outside the lower and upper bounds\n",
    "\n",
    "df_iqr_1 = df_model[(df_model['price'] > lower) & (df_model['price'] < upper)]"
   ]
  },
  {
   "cell_type": "code",
   "execution_count": 279,
   "metadata": {},
   "outputs": [
    {
     "name": "stdout",
     "output_type": "stream",
     "text": [
      "<class 'pandas.core.frame.DataFrame'>\n",
      "Int64Index: 28161 entries, 0 to 30154\n",
      "Data columns (total 7 columns):\n",
      " #   Column       Non-Null Count  Dtype  \n",
      "---  ------       --------------  -----  \n",
      " 0   price        28161 non-null  float64\n",
      " 1   bedrooms     28161 non-null  int64  \n",
      " 2   bathrooms    28161 non-null  float64\n",
      " 3   grade        28161 non-null  object \n",
      " 4   sqft_garage  28161 non-null  int64  \n",
      " 5   sqft_patio   28161 non-null  int64  \n",
      " 6   grade_num    28161 non-null  int64  \n",
      "dtypes: float64(2), int64(4), object(1)\n",
      "memory usage: 1.7+ MB\n"
     ]
    }
   ],
   "source": [
    "df_iqr_1.info()"
   ]
  },
  {
   "cell_type": "code",
   "execution_count": 280,
   "metadata": {},
   "outputs": [
    {
     "data": {
      "text/plain": [
       "(500.0, 1250.0, -750.0)"
      ]
     },
     "execution_count": 280,
     "metadata": {},
     "output_type": "execute_result"
    }
   ],
   "source": [
    "# Removing garage outliers by setting lower and upper bounds\n",
    "\n",
    "iqr = (df_iqr_1['sqft_garage'].quantile(0.75) - df_iqr_1['sqft_garage'].quantile(0.25))\n",
    "\n",
    "upper = df_iqr_1['sqft_garage'].quantile(0.75) + (1.5 * iqr)\n",
    "lower = df_iqr_1['sqft_garage'].quantile(0.25) - (1.5 * iqr)\n",
    "\n",
    "iqr, upper, lower"
   ]
  },
  {
   "cell_type": "code",
   "execution_count": 281,
   "metadata": {},
   "outputs": [],
   "source": [
    "# Removing garages outside the lower and upper bounds\n",
    "\n",
    "df_iqr_2 = df_iqr_1[(df_iqr_1['sqft_garage'] > lower) & (df_iqr_1['sqft_garage'] < upper)]"
   ]
  },
  {
   "cell_type": "code",
   "execution_count": 282,
   "metadata": {},
   "outputs": [
    {
     "name": "stdout",
     "output_type": "stream",
     "text": [
      "<class 'pandas.core.frame.DataFrame'>\n",
      "Int64Index: 28081 entries, 0 to 30154\n",
      "Data columns (total 7 columns):\n",
      " #   Column       Non-Null Count  Dtype  \n",
      "---  ------       --------------  -----  \n",
      " 0   price        28081 non-null  float64\n",
      " 1   bedrooms     28081 non-null  int64  \n",
      " 2   bathrooms    28081 non-null  float64\n",
      " 3   grade        28081 non-null  object \n",
      " 4   sqft_garage  28081 non-null  int64  \n",
      " 5   sqft_patio   28081 non-null  int64  \n",
      " 6   grade_num    28081 non-null  int64  \n",
      "dtypes: float64(2), int64(4), object(1)\n",
      "memory usage: 1.7+ MB\n"
     ]
    }
   ],
   "source": [
    "df_iqr_2.info()"
   ]
  },
  {
   "cell_type": "code",
   "execution_count": 283,
   "metadata": {},
   "outputs": [
    {
     "data": {
      "text/plain": [
       "(260.0, 690.0, -350.0)"
      ]
     },
     "execution_count": 283,
     "metadata": {},
     "output_type": "execute_result"
    }
   ],
   "source": [
    "# Removing patio outliers by setting lower and upper bounds\n",
    "\n",
    "iqr = (df_iqr_2['sqft_patio'].quantile(0.75) - df_iqr_2['sqft_patio'].quantile(0.25))\n",
    "\n",
    "upper = df_iqr_2['sqft_patio'].quantile(0.75) + (1.5 * iqr)\n",
    "lower = df_iqr_2['sqft_patio'].quantile(0.25) - (1.5 * iqr)\n",
    "\n",
    "iqr, upper, lower"
   ]
  },
  {
   "cell_type": "code",
   "execution_count": 284,
   "metadata": {},
   "outputs": [],
   "source": [
    "# Removing patios outside the lower and upper bounds\n",
    "\n",
    "df_model_iqr = df_iqr_2[(df_iqr_2['sqft_patio'] > lower) & (df_iqr_2['sqft_patio'] < upper)]"
   ]
  },
  {
   "cell_type": "code",
   "execution_count": null,
   "metadata": {},
   "outputs": [],
   "source": []
  },
  {
   "cell_type": "code",
   "execution_count": null,
   "metadata": {},
   "outputs": [],
   "source": []
  },
  {
   "cell_type": "code",
   "execution_count": null,
   "metadata": {},
   "outputs": [],
   "source": []
  },
  {
   "cell_type": "code",
   "execution_count": null,
   "metadata": {},
   "outputs": [],
   "source": []
  },
  {
   "cell_type": "code",
   "execution_count": 285,
   "metadata": {},
   "outputs": [
    {
     "name": "stdout",
     "output_type": "stream",
     "text": [
      "<class 'pandas.core.frame.DataFrame'>\n",
      "Int64Index: 27016 entries, 0 to 30154\n",
      "Data columns (total 7 columns):\n",
      " #   Column       Non-Null Count  Dtype  \n",
      "---  ------       --------------  -----  \n",
      " 0   price        27016 non-null  float64\n",
      " 1   bedrooms     27016 non-null  int64  \n",
      " 2   bathrooms    27016 non-null  float64\n",
      " 3   grade        27016 non-null  object \n",
      " 4   sqft_garage  27016 non-null  int64  \n",
      " 5   sqft_patio   27016 non-null  int64  \n",
      " 6   grade_num    27016 non-null  int64  \n",
      "dtypes: float64(2), int64(4), object(1)\n",
      "memory usage: 1.6+ MB\n"
     ]
    }
   ],
   "source": [
    "df_model_iqr.info()"
   ]
  },
  {
   "cell_type": "markdown",
   "metadata": {},
   "source": [
    "## BUILDING DUMMY REGRESSOR MODEL"
   ]
  },
  {
   "cell_type": "code",
   "execution_count": 286,
   "metadata": {},
   "outputs": [],
   "source": [
    "# Defining X and y to be used in dummy model\n",
    "\n",
    "X = df_model_iqr.drop(columns=['price', 'grade'])\n",
    "y = df_model_iqr['price']"
   ]
  },
  {
   "cell_type": "code",
   "execution_count": 287,
   "metadata": {},
   "outputs": [],
   "source": [
    "#Test train split\n",
    "X_train, X_test, y_train, y_test = train_test_split(X, y, random_state=0)\n",
    "\n",
    "# Instantiate linear regression model and fit to training data\n",
    "lm = LinearRegression().fit(X_train, y_train)\n",
    "\n",
    "lm_dummy_mean = DummyRegressor(strategy = 'mean').fit(X_train, y_train)\n",
    "lm_dummy_median = DummyRegressor(strategy = 'median').fit(X_train, y_train)\n",
    "\n",
    "y_predict_dummy_mean = lm_dummy_mean.predict(X_test)\n",
    "y_predict_dummy_median = lm_dummy_median.predict(X_test)"
   ]
  },
  {
   "cell_type": "code",
   "execution_count": 288,
   "metadata": {},
   "outputs": [
    {
     "name": "stdout",
     "output_type": "stream",
     "text": [
      "RMSE (dummy): 420548.74\n",
      "Median Absolute Error (dummy): 234950.00\n",
      "r2_score (dummy mean): -0.00\n",
      "r2_score (dummy median): -0.05\n"
     ]
    }
   ],
   "source": [
    "# Print results from dummy model\n",
    "\n",
    "print(\"RMSE (dummy): {:.2f}\".format(rmse(y_test, y_predict_dummy_mean)))\n",
    "  \n",
    "print(\"Median Absolute Error (dummy): {:.2f}\".format(median_absolute_error(y_test, y_predict_dummy_median)))\n",
    "  \n",
    "print(\"r2_score (dummy mean): {:.2f}\".format(r2_score(y_test, y_predict_dummy_mean)))\n",
    "print(\"r2_score (dummy median): {:.2f}\".format(r2_score(y_test, y_predict_dummy_median)))"
   ]
  },
  {
   "cell_type": "code",
   "execution_count": 289,
   "metadata": {},
   "outputs": [
    {
     "data": {
      "text/html": [
       "<table class=\"simpletable\">\n",
       "<caption>OLS Regression Results</caption>\n",
       "<tr>\n",
       "  <th>Dep. Variable:</th>          <td>price</td>      <th>  R-squared:         </th>  <td>   0.000</td>  \n",
       "</tr>\n",
       "<tr>\n",
       "  <th>Model:</th>                   <td>OLS</td>       <th>  Adj. R-squared:    </th>  <td>   0.000</td>  \n",
       "</tr>\n",
       "<tr>\n",
       "  <th>Method:</th>             <td>Least Squares</td>  <th>  F-statistic:       </th>  <td>     nan</td>  \n",
       "</tr>\n",
       "<tr>\n",
       "  <th>Date:</th>             <td>Wed, 15 Feb 2023</td> <th>  Prob (F-statistic):</th>   <td>   nan</td>   \n",
       "</tr>\n",
       "<tr>\n",
       "  <th>Time:</th>                 <td>17:10:39</td>     <th>  Log-Likelihood:    </th> <td>-3.8862e+05</td>\n",
       "</tr>\n",
       "<tr>\n",
       "  <th>No. Observations:</th>      <td> 27016</td>      <th>  AIC:               </th>  <td>7.772e+05</td> \n",
       "</tr>\n",
       "<tr>\n",
       "  <th>Df Residuals:</th>          <td> 27015</td>      <th>  BIC:               </th>  <td>7.773e+05</td> \n",
       "</tr>\n",
       "<tr>\n",
       "  <th>Df Model:</th>              <td>     0</td>      <th>                     </th>      <td> </td>     \n",
       "</tr>\n",
       "<tr>\n",
       "  <th>Covariance Type:</th>      <td>nonrobust</td>    <th>                     </th>      <td> </td>     \n",
       "</tr>\n",
       "</table>\n",
       "<table class=\"simpletable\">\n",
       "<tr>\n",
       "      <td></td>         <th>coef</th>     <th>std err</th>      <th>t</th>      <th>P>|t|</th>  <th>[0.025</th>    <th>0.975]</th>  \n",
       "</tr>\n",
       "<tr>\n",
       "  <th>avg_price</th> <td>    1.0000</td> <td>    0.003</td> <td>  357.263</td> <td> 0.000</td> <td>    0.995</td> <td>    1.005</td>\n",
       "</tr>\n",
       "</table>\n",
       "<table class=\"simpletable\">\n",
       "<tr>\n",
       "  <th>Omnibus:</th>       <td>3018.824</td> <th>  Durbin-Watson:     </th> <td>   1.996</td>\n",
       "</tr>\n",
       "<tr>\n",
       "  <th>Prob(Omnibus):</th>  <td> 0.000</td>  <th>  Jarque-Bera (JB):  </th> <td>4123.782</td>\n",
       "</tr>\n",
       "<tr>\n",
       "  <th>Skew:</th>           <td> 0.932</td>  <th>  Prob(JB):          </th> <td>    0.00</td>\n",
       "</tr>\n",
       "<tr>\n",
       "  <th>Kurtosis:</th>       <td> 3.432</td>  <th>  Cond. No.          </th> <td>    1.00</td>\n",
       "</tr>\n",
       "</table><br/><br/>Notes:<br/>[1] Standard Errors assume that the covariance matrix of the errors is correctly specified."
      ],
      "text/plain": [
       "<class 'statsmodels.iolib.summary.Summary'>\n",
       "\"\"\"\n",
       "                            OLS Regression Results                            \n",
       "==============================================================================\n",
       "Dep. Variable:                  price   R-squared:                       0.000\n",
       "Model:                            OLS   Adj. R-squared:                  0.000\n",
       "Method:                 Least Squares   F-statistic:                       nan\n",
       "Date:                Wed, 15 Feb 2023   Prob (F-statistic):                nan\n",
       "Time:                        17:10:39   Log-Likelihood:            -3.8862e+05\n",
       "No. Observations:               27016   AIC:                         7.772e+05\n",
       "Df Residuals:                   27015   BIC:                         7.773e+05\n",
       "Df Model:                           0                                         \n",
       "Covariance Type:            nonrobust                                         \n",
       "==============================================================================\n",
       "                 coef    std err          t      P>|t|      [0.025      0.975]\n",
       "------------------------------------------------------------------------------\n",
       "avg_price      1.0000      0.003    357.263      0.000       0.995       1.005\n",
       "==============================================================================\n",
       "Omnibus:                     3018.824   Durbin-Watson:                   1.996\n",
       "Prob(Omnibus):                  0.000   Jarque-Bera (JB):             4123.782\n",
       "Skew:                           0.932   Prob(JB):                         0.00\n",
       "Kurtosis:                       3.432   Cond. No.                         1.00\n",
       "==============================================================================\n",
       "\n",
       "Notes:\n",
       "[1] Standard Errors assume that the covariance matrix of the errors is correctly specified.\n",
       "\"\"\""
      ]
     },
     "execution_count": 289,
     "metadata": {},
     "output_type": "execute_result"
    }
   ],
   "source": [
    "# Using stats-model to check sklearn dummy model results\n",
    "df_dummy = df_model_iqr.copy()\n",
    "\n",
    "df_dummy['avg_price'] = df_dummy['price'].mean()\n",
    "X = df_dummy['avg_price']\n",
    "y = df_dummy['price']\n",
    "dummy_model = sm.OLS(y, sm.add_constant(X)).fit()\n",
    "\n",
    "dummy_model.summary()"
   ]
  },
  {
   "cell_type": "code",
   "execution_count": 290,
   "metadata": {},
   "outputs": [
    {
     "data": {
      "text/plain": [
       "427575.31848310196"
      ]
     },
     "execution_count": 290,
     "metadata": {},
     "output_type": "execute_result"
    }
   ],
   "source": [
    "# Calculate and return root-mean-square-error for dummy model (RMSE)\n",
    "\n",
    "ypred = dummy_model.predict(X)\n",
    "\n",
    "rmse = rmse(y, ypred)\n",
    "rmse"
   ]
  },
  {
   "cell_type": "markdown",
   "metadata": {},
   "source": [
    "The R-Squared value for both dummy models is 0, which is expected since it attempts to predict the expected output of 'price' without having any insight on the input. The root-mean-squared-error, a measure of the difference between the predicted values and actual values, is similar for both dummy models."
   ]
  },
  {
   "cell_type": "markdown",
   "metadata": {},
   "source": [
    "## BUILDING FIRST SIMPLE MODEL"
   ]
  },
  {
   "cell_type": "code",
   "execution_count": 291,
   "metadata": {},
   "outputs": [
    {
     "data": {
      "image/png": "[encoded data removed]",
      "text/plain": [
       "<Figure size 576x576 with 2 Axes>"
      ]
     },
     "metadata": {},
     "output_type": "display_data"
    }
   ],
   "source": [
    "# Correlation heatmap to identify variable most correlated with price\n",
    "\n",
    "fig, ax = plt.subplots(figsize=(8, 8))\n",
    "\n",
    "sns.heatmap(df_model_iqr.corr(), annot=True);"
   ]
  },
  {
   "cell_type": "markdown",
   "metadata": {},
   "source": [
    "We can see that 'grade_num' has the highest correlation to 'price', followed by 'bathrooms'."
   ]
  },
  {
   "cell_type": "code",
   "execution_count": 292,
   "metadata": {},
   "outputs": [
    {
     "data": {
      "text/html": [
       "<table class=\"simpletable\">\n",
       "<caption>OLS Regression Results</caption>\n",
       "<tr>\n",
       "  <th>Dep. Variable:</th>          <td>price</td>      <th>  R-squared:         </th>  <td>   0.283</td>  \n",
       "</tr>\n",
       "<tr>\n",
       "  <th>Model:</th>                   <td>OLS</td>       <th>  Adj. R-squared:    </th>  <td>   0.283</td>  \n",
       "</tr>\n",
       "<tr>\n",
       "  <th>Method:</th>             <td>Least Squares</td>  <th>  F-statistic:       </th>  <td>1.066e+04</td> \n",
       "</tr>\n",
       "<tr>\n",
       "  <th>Date:</th>             <td>Wed, 15 Feb 2023</td> <th>  Prob (F-statistic):</th>   <td>  0.00</td>   \n",
       "</tr>\n",
       "<tr>\n",
       "  <th>Time:</th>                 <td>17:10:40</td>     <th>  Log-Likelihood:    </th> <td>-3.8413e+05</td>\n",
       "</tr>\n",
       "<tr>\n",
       "  <th>No. Observations:</th>      <td> 27016</td>      <th>  AIC:               </th>  <td>7.683e+05</td> \n",
       "</tr>\n",
       "<tr>\n",
       "  <th>Df Residuals:</th>          <td> 27014</td>      <th>  BIC:               </th>  <td>7.683e+05</td> \n",
       "</tr>\n",
       "<tr>\n",
       "  <th>Df Model:</th>              <td>     1</td>      <th>                     </th>      <td> </td>     \n",
       "</tr>\n",
       "<tr>\n",
       "  <th>Covariance Type:</th>      <td>nonrobust</td>    <th>                     </th>      <td> </td>     \n",
       "</tr>\n",
       "</table>\n",
       "<table class=\"simpletable\">\n",
       "<tr>\n",
       "      <td></td>         <th>coef</th>     <th>std err</th>      <th>t</th>      <th>P>|t|</th>  <th>[0.025</th>    <th>0.975]</th>  \n",
       "</tr>\n",
       "<tr>\n",
       "  <th>const</th>     <td>-7.966e+05</td> <td> 1.69e+04</td> <td>  -47.252</td> <td> 0.000</td> <td> -8.3e+05</td> <td>-7.64e+05</td>\n",
       "</tr>\n",
       "<tr>\n",
       "  <th>grade_num</th> <td> 2.305e+05</td> <td> 2232.607</td> <td>  103.262</td> <td> 0.000</td> <td> 2.26e+05</td> <td> 2.35e+05</td>\n",
       "</tr>\n",
       "</table>\n",
       "<table class=\"simpletable\">\n",
       "<tr>\n",
       "  <th>Omnibus:</th>       <td>2216.346</td> <th>  Durbin-Watson:     </th> <td>   2.011</td>\n",
       "</tr>\n",
       "<tr>\n",
       "  <th>Prob(Omnibus):</th>  <td> 0.000</td>  <th>  Jarque-Bera (JB):  </th> <td>2872.605</td>\n",
       "</tr>\n",
       "<tr>\n",
       "  <th>Skew:</th>           <td> 0.727</td>  <th>  Prob(JB):          </th> <td>    0.00</td>\n",
       "</tr>\n",
       "<tr>\n",
       "  <th>Kurtosis:</th>       <td> 3.662</td>  <th>  Cond. No.          </th> <td>    58.8</td>\n",
       "</tr>\n",
       "</table><br/><br/>Notes:<br/>[1] Standard Errors assume that the covariance matrix of the errors is correctly specified."
      ],
      "text/plain": [
       "<class 'statsmodels.iolib.summary.Summary'>\n",
       "\"\"\"\n",
       "                            OLS Regression Results                            \n",
       "==============================================================================\n",
       "Dep. Variable:                  price   R-squared:                       0.283\n",
       "Model:                            OLS   Adj. R-squared:                  0.283\n",
       "Method:                 Least Squares   F-statistic:                 1.066e+04\n",
       "Date:                Wed, 15 Feb 2023   Prob (F-statistic):               0.00\n",
       "Time:                        17:10:40   Log-Likelihood:            -3.8413e+05\n",
       "No. Observations:               27016   AIC:                         7.683e+05\n",
       "Df Residuals:                   27014   BIC:                         7.683e+05\n",
       "Df Model:                           1                                         \n",
       "Covariance Type:            nonrobust                                         \n",
       "==============================================================================\n",
       "                 coef    std err          t      P>|t|      [0.025      0.975]\n",
       "------------------------------------------------------------------------------\n",
       "const      -7.966e+05   1.69e+04    -47.252      0.000    -8.3e+05   -7.64e+05\n",
       "grade_num   2.305e+05   2232.607    103.262      0.000    2.26e+05    2.35e+05\n",
       "==============================================================================\n",
       "Omnibus:                     2216.346   Durbin-Watson:                   2.011\n",
       "Prob(Omnibus):                  0.000   Jarque-Bera (JB):             2872.605\n",
       "Skew:                           0.727   Prob(JB):                         0.00\n",
       "Kurtosis:                       3.662   Cond. No.                         58.8\n",
       "==============================================================================\n",
       "\n",
       "Notes:\n",
       "[1] Standard Errors assume that the covariance matrix of the errors is correctly specified.\n",
       "\"\"\""
      ]
     },
     "execution_count": 292,
     "metadata": {},
     "output_type": "execute_result"
    }
   ],
   "source": [
    "# Creating simple model with the most correlated variable\n",
    "\n",
    "X = df_model_iqr['grade_num']\n",
    "y = df_model_iqr['price']\n",
    "\n",
    "first_model = sm.OLS(y, sm.add_constant(X)).fit()\n",
    "first_model.summary()"
   ]
  },
  {
   "cell_type": "code",
   "execution_count": 293,
   "metadata": {},
   "outputs": [
    {
     "data": {
      "text/plain": [
       "362063.0386165129"
      ]
     },
     "execution_count": 293,
     "metadata": {},
     "output_type": "execute_result"
    }
   ],
   "source": [
    "# Calculate and return root-mean-square-error for first simple model (RMSE)\n",
    "\n",
    "np.sqrt(first_model.mse_resid)"
   ]
  },
  {
   "cell_type": "code",
   "execution_count": 294,
   "metadata": {},
   "outputs": [
    {
     "data": {
      "image/png": "[encoded data removed]",
      "text/plain": [
       "<Figure size 864x576 with 4 Axes>"
      ]
     },
     "metadata": {},
     "output_type": "display_data"
    }
   ],
   "source": [
    "fig = plt.figure(figsize=(12,8))\n",
    "sm.graphics.plot_regress_exog(first_model, 'grade_num', fig=fig)\n",
    "plt.show();"
   ]
  },
  {
   "cell_type": "markdown",
   "metadata": {},
   "source": [
    "## BUILDING MODEL WITH ALL FEATURES"
   ]
  },
  {
   "cell_type": "code",
   "execution_count": 295,
   "metadata": {},
   "outputs": [
    {
     "data": {
      "text/html": [
       "<table class=\"simpletable\">\n",
       "<caption>OLS Regression Results</caption>\n",
       "<tr>\n",
       "  <th>Dep. Variable:</th>          <td>price</td>      <th>  R-squared:         </th>  <td>   0.320</td>  \n",
       "</tr>\n",
       "<tr>\n",
       "  <th>Model:</th>                   <td>OLS</td>       <th>  Adj. R-squared:    </th>  <td>   0.320</td>  \n",
       "</tr>\n",
       "<tr>\n",
       "  <th>Method:</th>             <td>Least Squares</td>  <th>  F-statistic:       </th>  <td>   2538.</td>  \n",
       "</tr>\n",
       "<tr>\n",
       "  <th>Date:</th>             <td>Wed, 15 Feb 2023</td> <th>  Prob (F-statistic):</th>   <td>  0.00</td>   \n",
       "</tr>\n",
       "<tr>\n",
       "  <th>Time:</th>                 <td>17:10:42</td>     <th>  Log-Likelihood:    </th> <td>-3.8342e+05</td>\n",
       "</tr>\n",
       "<tr>\n",
       "  <th>No. Observations:</th>      <td> 27016</td>      <th>  AIC:               </th>  <td>7.668e+05</td> \n",
       "</tr>\n",
       "<tr>\n",
       "  <th>Df Residuals:</th>          <td> 27010</td>      <th>  BIC:               </th>  <td>7.669e+05</td> \n",
       "</tr>\n",
       "<tr>\n",
       "  <th>Df Model:</th>              <td>     5</td>      <th>                     </th>      <td> </td>     \n",
       "</tr>\n",
       "<tr>\n",
       "  <th>Covariance Type:</th>      <td>nonrobust</td>    <th>                     </th>      <td> </td>     \n",
       "</tr>\n",
       "</table>\n",
       "<table class=\"simpletable\">\n",
       "<tr>\n",
       "       <td></td>          <th>coef</th>     <th>std err</th>      <th>t</th>      <th>P>|t|</th>  <th>[0.025</th>    <th>0.975]</th>  \n",
       "</tr>\n",
       "<tr>\n",
       "  <th>const</th>       <td>-8.018e+05</td> <td> 1.85e+04</td> <td>  -43.296</td> <td> 0.000</td> <td>-8.38e+05</td> <td>-7.66e+05</td>\n",
       "</tr>\n",
       "<tr>\n",
       "  <th>bedrooms</th>    <td>  5.35e+04</td> <td> 2719.683</td> <td>   19.673</td> <td> 0.000</td> <td> 4.82e+04</td> <td> 5.88e+04</td>\n",
       "</tr>\n",
       "<tr>\n",
       "  <th>bathrooms</th>   <td> 6.513e+04</td> <td> 3871.745</td> <td>   16.823</td> <td> 0.000</td> <td> 5.75e+04</td> <td> 7.27e+04</td>\n",
       "</tr>\n",
       "<tr>\n",
       "  <th>sqft_garage</th> <td> -101.5176</td> <td>    9.572</td> <td>  -10.605</td> <td> 0.000</td> <td> -120.280</td> <td>  -82.755</td>\n",
       "</tr>\n",
       "<tr>\n",
       "  <th>sqft_patio</th>  <td>  149.6338</td> <td>   13.402</td> <td>   11.165</td> <td> 0.000</td> <td>  123.365</td> <td>  175.903</td>\n",
       "</tr>\n",
       "<tr>\n",
       "  <th>grade_num</th>   <td> 1.886e+05</td> <td> 2818.543</td> <td>   66.929</td> <td> 0.000</td> <td> 1.83e+05</td> <td> 1.94e+05</td>\n",
       "</tr>\n",
       "</table>\n",
       "<table class=\"simpletable\">\n",
       "<tr>\n",
       "  <th>Omnibus:</th>       <td>2137.997</td> <th>  Durbin-Watson:     </th> <td>   2.011</td>\n",
       "</tr>\n",
       "<tr>\n",
       "  <th>Prob(Omnibus):</th>  <td> 0.000</td>  <th>  Jarque-Bera (JB):  </th> <td>2813.562</td>\n",
       "</tr>\n",
       "<tr>\n",
       "  <th>Skew:</th>           <td> 0.695</td>  <th>  Prob(JB):          </th> <td>    0.00</td>\n",
       "</tr>\n",
       "<tr>\n",
       "  <th>Kurtosis:</th>       <td> 3.754</td>  <th>  Cond. No.          </th> <td>3.78e+03</td>\n",
       "</tr>\n",
       "</table><br/><br/>Notes:<br/>[1] Standard Errors assume that the covariance matrix of the errors is correctly specified.<br/>[2] The condition number is large, 3.78e+03. This might indicate that there are<br/>strong multicollinearity or other numerical problems."
      ],
      "text/plain": [
       "<class 'statsmodels.iolib.summary.Summary'>\n",
       "\"\"\"\n",
       "                            OLS Regression Results                            \n",
       "==============================================================================\n",
       "Dep. Variable:                  price   R-squared:                       0.320\n",
       "Model:                            OLS   Adj. R-squared:                  0.320\n",
       "Method:                 Least Squares   F-statistic:                     2538.\n",
       "Date:                Wed, 15 Feb 2023   Prob (F-statistic):               0.00\n",
       "Time:                        17:10:42   Log-Likelihood:            -3.8342e+05\n",
       "No. Observations:               27016   AIC:                         7.668e+05\n",
       "Df Residuals:                   27010   BIC:                         7.669e+05\n",
       "Df Model:                           5                                         \n",
       "Covariance Type:            nonrobust                                         \n",
       "===============================================================================\n",
       "                  coef    std err          t      P>|t|      [0.025      0.975]\n",
       "-------------------------------------------------------------------------------\n",
       "const       -8.018e+05   1.85e+04    -43.296      0.000   -8.38e+05   -7.66e+05\n",
       "bedrooms      5.35e+04   2719.683     19.673      0.000    4.82e+04    5.88e+04\n",
       "bathrooms    6.513e+04   3871.745     16.823      0.000    5.75e+04    7.27e+04\n",
       "sqft_garage  -101.5176      9.572    -10.605      0.000    -120.280     -82.755\n",
       "sqft_patio    149.6338     13.402     11.165      0.000     123.365     175.903\n",
       "grade_num    1.886e+05   2818.543     66.929      0.000    1.83e+05    1.94e+05\n",
       "==============================================================================\n",
       "Omnibus:                     2137.997   Durbin-Watson:                   2.011\n",
       "Prob(Omnibus):                  0.000   Jarque-Bera (JB):             2813.562\n",
       "Skew:                           0.695   Prob(JB):                         0.00\n",
       "Kurtosis:                       3.754   Cond. No.                     3.78e+03\n",
       "==============================================================================\n",
       "\n",
       "Notes:\n",
       "[1] Standard Errors assume that the covariance matrix of the errors is correctly specified.\n",
       "[2] The condition number is large, 3.78e+03. This might indicate that there are\n",
       "strong multicollinearity or other numerical problems.\n",
       "\"\"\""
      ]
     },
     "execution_count": 295,
     "metadata": {},
     "output_type": "execute_result"
    }
   ],
   "source": [
    "# Create training model with all variables\n",
    "\n",
    "X = df_model_iqr.drop(columns=['price', 'grade'])\n",
    "y = df_model_iqr['price']\n",
    "\n",
    "price_model = sm.OLS(y, sm.add_constant(X)).fit()\n",
    "price_model.summary()"
   ]
  },
  {
   "cell_type": "code",
   "execution_count": 296,
   "metadata": {},
   "outputs": [
    {
     "data": {
      "text/plain": [
       "352712.5417315797"
      ]
     },
     "execution_count": 296,
     "metadata": {},
     "output_type": "execute_result"
    }
   ],
   "source": [
    "np.sqrt(price_model.mse_resid)"
   ]
  },
  {
   "cell_type": "code",
   "execution_count": 297,
   "metadata": {},
   "outputs": [
    {
     "data": {
      "text/html": [
       "<div>\n",
       "<style scoped>\n",
       "    .dataframe tbody tr th:only-of-type {\n",
       "        vertical-align: middle;\n",
       "    }\n",
       "\n",
       "    .dataframe tbody tr th {\n",
       "        vertical-align: top;\n",
       "    }\n",
       "\n",
       "    .dataframe thead th {\n",
       "        text-align: right;\n",
       "    }\n",
       "</style>\n",
       "<table border=\"1\" class=\"dataframe\">\n",
       "  <thead>\n",
       "    <tr style=\"text-align: right;\">\n",
       "      <th></th>\n",
       "      <th>bedrooms</th>\n",
       "      <th>bathrooms</th>\n",
       "      <th>sqft_garage</th>\n",
       "      <th>sqft_patio</th>\n",
       "      <th>grade_num</th>\n",
       "    </tr>\n",
       "  </thead>\n",
       "  <tbody>\n",
       "    <tr>\n",
       "      <th>count</th>\n",
       "      <td>2.701600e+04</td>\n",
       "      <td>2.701600e+04</td>\n",
       "      <td>2.701600e+04</td>\n",
       "      <td>2.701600e+04</td>\n",
       "      <td>2.701600e+04</td>\n",
       "    </tr>\n",
       "    <tr>\n",
       "      <th>mean</th>\n",
       "      <td>-1.454435e-16</td>\n",
       "      <td>6.706707e-17</td>\n",
       "      <td>8.416260e-17</td>\n",
       "      <td>2.038313e-17</td>\n",
       "      <td>-2.288171e-17</td>\n",
       "    </tr>\n",
       "    <tr>\n",
       "      <th>std</th>\n",
       "      <td>1.000000e+00</td>\n",
       "      <td>1.000000e+00</td>\n",
       "      <td>1.000000e+00</td>\n",
       "      <td>1.000000e+00</td>\n",
       "      <td>1.000000e+00</td>\n",
       "    </tr>\n",
       "    <tr>\n",
       "      <th>min</th>\n",
       "      <td>-3.502075e+00</td>\n",
       "      <td>-2.813545e+00</td>\n",
       "      <td>-1.179112e+00</td>\n",
       "      <td>-1.028531e+00</td>\n",
       "      <td>-6.574460e+00</td>\n",
       "    </tr>\n",
       "    <tr>\n",
       "      <th>25%</th>\n",
       "      <td>-3.616342e-01</td>\n",
       "      <td>-2.872224e-01</td>\n",
       "      <td>-1.179112e+00</td>\n",
       "      <td>-8.502278e-01</td>\n",
       "      <td>-4.933649e-01</td>\n",
       "    </tr>\n",
       "    <tr>\n",
       "      <th>50%</th>\n",
       "      <td>-3.616342e-01</td>\n",
       "      <td>3.443583e-01</td>\n",
       "      <td>2.079366e-01</td>\n",
       "      <td>-2.558848e-01</td>\n",
       "      <td>-4.933649e-01</td>\n",
       "    </tr>\n",
       "    <tr>\n",
       "      <th>75%</th>\n",
       "      <td>6.851793e-01</td>\n",
       "      <td>3.443583e-01</td>\n",
       "      <td>7.088153e-01</td>\n",
       "      <td>6.356298e-01</td>\n",
       "      <td>5.201509e-01</td>\n",
       "    </tr>\n",
       "    <tr>\n",
       "      <th>max</th>\n",
       "      <td>8.012874e+00</td>\n",
       "      <td>6.660165e+00</td>\n",
       "      <td>3.598500e+00</td>\n",
       "      <td>3.060550e+00</td>\n",
       "      <td>4.574214e+00</td>\n",
       "    </tr>\n",
       "  </tbody>\n",
       "</table>\n",
       "</div>"
      ],
      "text/plain": [
       "           bedrooms     bathrooms   sqft_garage    sqft_patio     grade_num\n",
       "count  2.701600e+04  2.701600e+04  2.701600e+04  2.701600e+04  2.701600e+04\n",
       "mean  -1.454435e-16  6.706707e-17  8.416260e-17  2.038313e-17 -2.288171e-17\n",
       "std    1.000000e+00  1.000000e+00  1.000000e+00  1.000000e+00  1.000000e+00\n",
       "min   -3.502075e+00 -2.813545e+00 -1.179112e+00 -1.028531e+00 -6.574460e+00\n",
       "25%   -3.616342e-01 -2.872224e-01 -1.179112e+00 -8.502278e-01 -4.933649e-01\n",
       "50%   -3.616342e-01  3.443583e-01  2.079366e-01 -2.558848e-01 -4.933649e-01\n",
       "75%    6.851793e-01  3.443583e-01  7.088153e-01  6.356298e-01  5.201509e-01\n",
       "max    8.012874e+00  6.660165e+00  3.598500e+00  3.060550e+00  4.574214e+00"
      ]
     },
     "execution_count": 297,
     "metadata": {},
     "output_type": "execute_result"
    }
   ],
   "source": [
    "X_standardized = df_model_iqr.drop(columns=['price', 'grade'])\n",
    "\n",
    "for col in X_standardized:\n",
    "    X_standardized[col] = (X_standardized[col] - X_standardized[col].mean()) \\\n",
    "                            / X_standardized[col].std()\n",
    "    \n",
    "X_standardized.describe()"
   ]
  },
  {
   "cell_type": "code",
   "execution_count": 298,
   "metadata": {},
   "outputs": [
    {
     "data": {
      "text/html": [
       "<table class=\"simpletable\">\n",
       "<caption>OLS Regression Results</caption>\n",
       "<tr>\n",
       "  <th>Dep. Variable:</th>          <td>price</td>      <th>  R-squared:         </th>  <td>   0.320</td>  \n",
       "</tr>\n",
       "<tr>\n",
       "  <th>Model:</th>                   <td>OLS</td>       <th>  Adj. R-squared:    </th>  <td>   0.320</td>  \n",
       "</tr>\n",
       "<tr>\n",
       "  <th>Method:</th>             <td>Least Squares</td>  <th>  F-statistic:       </th>  <td>   2538.</td>  \n",
       "</tr>\n",
       "<tr>\n",
       "  <th>Date:</th>             <td>Wed, 15 Feb 2023</td> <th>  Prob (F-statistic):</th>   <td>  0.00</td>   \n",
       "</tr>\n",
       "<tr>\n",
       "  <th>Time:</th>                 <td>17:10:42</td>     <th>  Log-Likelihood:    </th> <td>-3.8342e+05</td>\n",
       "</tr>\n",
       "<tr>\n",
       "  <th>No. Observations:</th>      <td> 27016</td>      <th>  AIC:               </th>  <td>7.668e+05</td> \n",
       "</tr>\n",
       "<tr>\n",
       "  <th>Df Residuals:</th>          <td> 27010</td>      <th>  BIC:               </th>  <td>7.669e+05</td> \n",
       "</tr>\n",
       "<tr>\n",
       "  <th>Df Model:</th>              <td>     5</td>      <th>                     </th>      <td> </td>     \n",
       "</tr>\n",
       "<tr>\n",
       "  <th>Covariance Type:</th>      <td>nonrobust</td>    <th>                     </th>      <td> </td>     \n",
       "</tr>\n",
       "</table>\n",
       "<table class=\"simpletable\">\n",
       "<tr>\n",
       "       <td></td>          <th>coef</th>     <th>std err</th>      <th>t</th>      <th>P>|t|</th>  <th>[0.025</th>    <th>0.975]</th>  \n",
       "</tr>\n",
       "<tr>\n",
       "  <th>const</th>       <td> 9.294e+05</td> <td> 2145.904</td> <td>  433.099</td> <td> 0.000</td> <td> 9.25e+05</td> <td> 9.34e+05</td>\n",
       "</tr>\n",
       "<tr>\n",
       "  <th>bedrooms</th>    <td> 5.111e+04</td> <td> 2598.059</td> <td>   19.673</td> <td> 0.000</td> <td>  4.6e+04</td> <td> 5.62e+04</td>\n",
       "</tr>\n",
       "<tr>\n",
       "  <th>bathrooms</th>   <td> 5.156e+04</td> <td> 3065.123</td> <td>   16.823</td> <td> 0.000</td> <td> 4.56e+04</td> <td> 5.76e+04</td>\n",
       "</tr>\n",
       "<tr>\n",
       "  <th>sqft_garage</th> <td>-2.635e+04</td> <td> 2484.448</td> <td>  -10.605</td> <td> 0.000</td> <td>-3.12e+04</td> <td>-2.15e+04</td>\n",
       "</tr>\n",
       "<tr>\n",
       "  <th>sqft_patio</th>  <td> 2.518e+04</td> <td> 2254.945</td> <td>   11.165</td> <td> 0.000</td> <td> 2.08e+04</td> <td> 2.96e+04</td>\n",
       "</tr>\n",
       "<tr>\n",
       "  <th>grade_num</th>   <td> 1.861e+05</td> <td> 2780.956</td> <td>   66.929</td> <td> 0.000</td> <td> 1.81e+05</td> <td> 1.92e+05</td>\n",
       "</tr>\n",
       "</table>\n",
       "<table class=\"simpletable\">\n",
       "<tr>\n",
       "  <th>Omnibus:</th>       <td>2137.997</td> <th>  Durbin-Watson:     </th> <td>   2.011</td>\n",
       "</tr>\n",
       "<tr>\n",
       "  <th>Prob(Omnibus):</th>  <td> 0.000</td>  <th>  Jarque-Bera (JB):  </th> <td>2813.562</td>\n",
       "</tr>\n",
       "<tr>\n",
       "  <th>Skew:</th>           <td> 0.695</td>  <th>  Prob(JB):          </th> <td>    0.00</td>\n",
       "</tr>\n",
       "<tr>\n",
       "  <th>Kurtosis:</th>       <td> 3.754</td>  <th>  Cond. No.          </th> <td>    2.69</td>\n",
       "</tr>\n",
       "</table><br/><br/>Notes:<br/>[1] Standard Errors assume that the covariance matrix of the errors is correctly specified."
      ],
      "text/plain": [
       "<class 'statsmodels.iolib.summary.Summary'>\n",
       "\"\"\"\n",
       "                            OLS Regression Results                            \n",
       "==============================================================================\n",
       "Dep. Variable:                  price   R-squared:                       0.320\n",
       "Model:                            OLS   Adj. R-squared:                  0.320\n",
       "Method:                 Least Squares   F-statistic:                     2538.\n",
       "Date:                Wed, 15 Feb 2023   Prob (F-statistic):               0.00\n",
       "Time:                        17:10:42   Log-Likelihood:            -3.8342e+05\n",
       "No. Observations:               27016   AIC:                         7.668e+05\n",
       "Df Residuals:                   27010   BIC:                         7.669e+05\n",
       "Df Model:                           5                                         \n",
       "Covariance Type:            nonrobust                                         \n",
       "===============================================================================\n",
       "                  coef    std err          t      P>|t|      [0.025      0.975]\n",
       "-------------------------------------------------------------------------------\n",
       "const        9.294e+05   2145.904    433.099      0.000    9.25e+05    9.34e+05\n",
       "bedrooms     5.111e+04   2598.059     19.673      0.000     4.6e+04    5.62e+04\n",
       "bathrooms    5.156e+04   3065.123     16.823      0.000    4.56e+04    5.76e+04\n",
       "sqft_garage -2.635e+04   2484.448    -10.605      0.000   -3.12e+04   -2.15e+04\n",
       "sqft_patio   2.518e+04   2254.945     11.165      0.000    2.08e+04    2.96e+04\n",
       "grade_num    1.861e+05   2780.956     66.929      0.000    1.81e+05    1.92e+05\n",
       "==============================================================================\n",
       "Omnibus:                     2137.997   Durbin-Watson:                   2.011\n",
       "Prob(Omnibus):                  0.000   Jarque-Bera (JB):             2813.562\n",
       "Skew:                           0.695   Prob(JB):                         0.00\n",
       "Kurtosis:                       3.754   Cond. No.                         2.69\n",
       "==============================================================================\n",
       "\n",
       "Notes:\n",
       "[1] Standard Errors assume that the covariance matrix of the errors is correctly specified.\n",
       "\"\"\""
      ]
     },
     "execution_count": 298,
     "metadata": {},
     "output_type": "execute_result"
    }
   ],
   "source": [
    "y = df_model_iqr['price']\n",
    "X = X_standardized\n",
    "\n",
    "price_model_std = sm.OLS(endog=y, exog=sm.add_constant(X)).fit()\n",
    "\n",
    "price_model_std.summary()"
   ]
  },
  {
   "cell_type": "code",
   "execution_count": 299,
   "metadata": {},
   "outputs": [
    {
     "data": {
      "text/plain": [
       "(352712.5417315797, 0.9866644118277742)"
      ]
     },
     "execution_count": 299,
     "metadata": {},
     "output_type": "execute_result"
    }
   ],
   "source": [
    "np.sqrt(price_model_std.mse_resid), df_model_iqr['grade_num'].std()"
   ]
  },
  {
   "cell_type": "code",
   "execution_count": 300,
   "metadata": {},
   "outputs": [
    {
     "data": {
      "image/png": "[encoded data removed]",
      "text/plain": [
       "<Figure size 864x720 with 1 Axes>"
      ]
     },
     "metadata": {},
     "output_type": "display_data"
    }
   ],
   "source": [
    "fig, ax = plt.subplots(figsize = (12, 10))\n",
    "\n",
    "#define data\n",
    "x = df_model_iqr['grade_num']\n",
    "y = df_model_iqr['price']\n",
    "\n",
    "#find line of best fit\n",
    "a, b = np.polyfit(x, y, 1)\n",
    "\n",
    "#add points to plot\n",
    "fig = plt.scatter(x, y)\n",
    "\n",
    "#add line of best fit to plot\n",
    "plt.plot(x, a*x+b)\n",
    "\n",
    "plt.xlabel('Numeric Grade', size=20)\n",
    "plt.xticks(fontsize=15)\n",
    "plt.ylabel('Sale Price', size=20)\n",
    "plt.yticks(fontsize=15)\n",
    "plt.title('Sale Price for Numeric Grade', size=20)\n",
    "plt.show(fig);"
   ]
  },
  {
   "cell_type": "code",
   "execution_count": null,
   "metadata": {},
   "outputs": [],
   "source": []
  },
  {
   "cell_type": "code",
   "execution_count": null,
   "metadata": {},
   "outputs": [],
   "source": []
  },
  {
   "cell_type": "code",
   "execution_count": null,
   "metadata": {},
   "outputs": [],
   "source": []
  },
  {
   "cell_type": "code",
   "execution_count": null,
   "metadata": {},
   "outputs": [],
   "source": []
  },
  {
   "cell_type": "code",
   "execution_count": null,
   "metadata": {},
   "outputs": [],
   "source": []
  },
  {
   "cell_type": "markdown",
   "metadata": {},
   "source": [
    "## IDENTIFYING HOMEOWNER RENOVATION IMPACT ON PRICE"
   ]
  },
  {
   "cell_type": "code",
   "execution_count": 301,
   "metadata": {},
   "outputs": [
    {
     "data": {
      "text/html": [
       "<table class=\"simpletable\">\n",
       "<caption>OLS Regression Results</caption>\n",
       "<tr>\n",
       "  <th>Dep. Variable:</th>        <td>grade_num</td>    <th>  R-squared:         </th> <td>   0.405</td> \n",
       "</tr>\n",
       "<tr>\n",
       "  <th>Model:</th>                   <td>OLS</td>       <th>  Adj. R-squared:    </th> <td>   0.404</td> \n",
       "</tr>\n",
       "<tr>\n",
       "  <th>Method:</th>             <td>Least Squares</td>  <th>  F-statistic:       </th> <td>   4588.</td> \n",
       "</tr>\n",
       "<tr>\n",
       "  <th>Date:</th>             <td>Wed, 15 Feb 2023</td> <th>  Prob (F-statistic):</th>  <td>  0.00</td>  \n",
       "</tr>\n",
       "<tr>\n",
       "  <th>Time:</th>                 <td>17:10:43</td>     <th>  Log-Likelihood:    </th> <td> -30968.</td> \n",
       "</tr>\n",
       "<tr>\n",
       "  <th>No. Observations:</th>      <td> 27016</td>      <th>  AIC:               </th> <td>6.195e+04</td>\n",
       "</tr>\n",
       "<tr>\n",
       "  <th>Df Residuals:</th>          <td> 27011</td>      <th>  BIC:               </th> <td>6.199e+04</td>\n",
       "</tr>\n",
       "<tr>\n",
       "  <th>Df Model:</th>              <td>     4</td>      <th>                     </th>     <td> </td>    \n",
       "</tr>\n",
       "<tr>\n",
       "  <th>Covariance Type:</th>      <td>nonrobust</td>    <th>                     </th>     <td> </td>    \n",
       "</tr>\n",
       "</table>\n",
       "<table class=\"simpletable\">\n",
       "<tr>\n",
       "       <td></td>          <th>coef</th>     <th>std err</th>      <th>t</th>      <th>P>|t|</th>  <th>[0.025</th>    <th>0.975]</th>  \n",
       "</tr>\n",
       "<tr>\n",
       "  <th>const</th>       <td>    5.8959</td> <td>    0.018</td> <td>  334.104</td> <td> 0.000</td> <td>    5.861</td> <td>    5.930</td>\n",
       "</tr>\n",
       "<tr>\n",
       "  <th>bedrooms</th>    <td>   -0.0267</td> <td>    0.006</td> <td>   -4.551</td> <td> 0.000</td> <td>   -0.038</td> <td>   -0.015</td>\n",
       "</tr>\n",
       "<tr>\n",
       "  <th>bathrooms</th>   <td>    0.5629</td> <td>    0.008</td> <td>   73.833</td> <td> 0.000</td> <td>    0.548</td> <td>    0.578</td>\n",
       "</tr>\n",
       "<tr>\n",
       "  <th>sqft_garage</th> <td>    0.0010</td> <td> 1.98e-05</td> <td>   48.414</td> <td> 0.000</td> <td>    0.001</td> <td>    0.001</td>\n",
       "</tr>\n",
       "<tr>\n",
       "  <th>sqft_patio</th>  <td>    0.0008</td> <td> 2.86e-05</td> <td>   26.862</td> <td> 0.000</td> <td>    0.001</td> <td>    0.001</td>\n",
       "</tr>\n",
       "</table>\n",
       "<table class=\"simpletable\">\n",
       "<tr>\n",
       "  <th>Omnibus:</th>       <td>514.982</td> <th>  Durbin-Watson:     </th> <td>   2.003</td> \n",
       "</tr>\n",
       "<tr>\n",
       "  <th>Prob(Omnibus):</th> <td> 0.000</td>  <th>  Jarque-Bera (JB):  </th> <td> 821.199</td> \n",
       "</tr>\n",
       "<tr>\n",
       "  <th>Skew:</th>          <td> 0.189</td>  <th>  Prob(JB):          </th> <td>4.78e-179</td>\n",
       "</tr>\n",
       "<tr>\n",
       "  <th>Kurtosis:</th>      <td> 3.765</td>  <th>  Cond. No.          </th> <td>1.69e+03</td> \n",
       "</tr>\n",
       "</table><br/><br/>Notes:<br/>[1] Standard Errors assume that the covariance matrix of the errors is correctly specified.<br/>[2] The condition number is large, 1.69e+03. This might indicate that there are<br/>strong multicollinearity or other numerical problems."
      ],
      "text/plain": [
       "<class 'statsmodels.iolib.summary.Summary'>\n",
       "\"\"\"\n",
       "                            OLS Regression Results                            \n",
       "==============================================================================\n",
       "Dep. Variable:              grade_num   R-squared:                       0.405\n",
       "Model:                            OLS   Adj. R-squared:                  0.404\n",
       "Method:                 Least Squares   F-statistic:                     4588.\n",
       "Date:                Wed, 15 Feb 2023   Prob (F-statistic):               0.00\n",
       "Time:                        17:10:43   Log-Likelihood:                -30968.\n",
       "No. Observations:               27016   AIC:                         6.195e+04\n",
       "Df Residuals:                   27011   BIC:                         6.199e+04\n",
       "Df Model:                           4                                         \n",
       "Covariance Type:            nonrobust                                         \n",
       "===============================================================================\n",
       "                  coef    std err          t      P>|t|      [0.025      0.975]\n",
       "-------------------------------------------------------------------------------\n",
       "const           5.8959      0.018    334.104      0.000       5.861       5.930\n",
       "bedrooms       -0.0267      0.006     -4.551      0.000      -0.038      -0.015\n",
       "bathrooms       0.5629      0.008     73.833      0.000       0.548       0.578\n",
       "sqft_garage     0.0010   1.98e-05     48.414      0.000       0.001       0.001\n",
       "sqft_patio      0.0008   2.86e-05     26.862      0.000       0.001       0.001\n",
       "==============================================================================\n",
       "Omnibus:                      514.982   Durbin-Watson:                   2.003\n",
       "Prob(Omnibus):                  0.000   Jarque-Bera (JB):              821.199\n",
       "Skew:                           0.189   Prob(JB):                    4.78e-179\n",
       "Kurtosis:                       3.765   Cond. No.                     1.69e+03\n",
       "==============================================================================\n",
       "\n",
       "Notes:\n",
       "[1] Standard Errors assume that the covariance matrix of the errors is correctly specified.\n",
       "[2] The condition number is large, 1.69e+03. This might indicate that there are\n",
       "strong multicollinearity or other numerical problems.\n",
       "\"\"\""
      ]
     },
     "execution_count": 301,
     "metadata": {},
     "output_type": "execute_result"
    }
   ],
   "source": [
    "\n",
    "\n",
    "X = df_model_iqr.drop(columns=['price', 'grade', 'grade_num'])\n",
    "y = df_model_iqr['grade_num']\n",
    "\n",
    "grade_model = sm.OLS(y, sm.add_constant(X)).fit()\n",
    "grade_model.summary()"
   ]
  },
  {
   "cell_type": "code",
   "execution_count": 302,
   "metadata": {},
   "outputs": [
    {
     "data": {
      "text/plain": [
       "0.7614228229469279"
      ]
     },
     "execution_count": 302,
     "metadata": {},
     "output_type": "execute_result"
    }
   ],
   "source": [
    "np.sqrt(grade_model.mse_resid)"
   ]
  },
  {
   "cell_type": "code",
   "execution_count": 303,
   "metadata": {},
   "outputs": [
    {
     "data": {
      "text/html": [
       "<div>\n",
       "<style scoped>\n",
       "    .dataframe tbody tr th:only-of-type {\n",
       "        vertical-align: middle;\n",
       "    }\n",
       "\n",
       "    .dataframe tbody tr th {\n",
       "        vertical-align: top;\n",
       "    }\n",
       "\n",
       "    .dataframe thead th {\n",
       "        text-align: right;\n",
       "    }\n",
       "</style>\n",
       "<table border=\"1\" class=\"dataframe\">\n",
       "  <thead>\n",
       "    <tr style=\"text-align: right;\">\n",
       "      <th></th>\n",
       "      <th>bedrooms</th>\n",
       "      <th>bathrooms</th>\n",
       "      <th>sqft_garage</th>\n",
       "      <th>sqft_patio</th>\n",
       "      <th>grade_num</th>\n",
       "    </tr>\n",
       "  </thead>\n",
       "  <tbody>\n",
       "    <tr>\n",
       "      <th>count</th>\n",
       "      <td>2.701600e+04</td>\n",
       "      <td>2.701600e+04</td>\n",
       "      <td>2.701600e+04</td>\n",
       "      <td>2.701600e+04</td>\n",
       "      <td>2.701600e+04</td>\n",
       "    </tr>\n",
       "    <tr>\n",
       "      <th>mean</th>\n",
       "      <td>-1.159866e-16</td>\n",
       "      <td>2.748435e-17</td>\n",
       "      <td>3.635824e-14</td>\n",
       "      <td>1.427398e-14</td>\n",
       "      <td>-2.945691e-17</td>\n",
       "    </tr>\n",
       "    <tr>\n",
       "      <th>std</th>\n",
       "      <td>9.552800e-01</td>\n",
       "      <td>7.916645e-01</td>\n",
       "      <td>2.595439e+02</td>\n",
       "      <td>1.682530e+02</td>\n",
       "      <td>9.866644e-01</td>\n",
       "    </tr>\n",
       "    <tr>\n",
       "      <th>min</th>\n",
       "      <td>-3.345462e+00</td>\n",
       "      <td>-2.227384e+00</td>\n",
       "      <td>-3.060313e+02</td>\n",
       "      <td>-1.730534e+02</td>\n",
       "      <td>-6.486786e+00</td>\n",
       "    </tr>\n",
       "    <tr>\n",
       "      <th>25%</th>\n",
       "      <td>-3.454619e-01</td>\n",
       "      <td>-2.273838e-01</td>\n",
       "      <td>-3.060313e+02</td>\n",
       "      <td>-1.430534e+02</td>\n",
       "      <td>-4.867856e-01</td>\n",
       "    </tr>\n",
       "    <tr>\n",
       "      <th>50%</th>\n",
       "      <td>-3.454619e-01</td>\n",
       "      <td>2.726162e-01</td>\n",
       "      <td>5.396869e+01</td>\n",
       "      <td>-4.305338e+01</td>\n",
       "      <td>-4.867856e-01</td>\n",
       "    </tr>\n",
       "    <tr>\n",
       "      <th>75%</th>\n",
       "      <td>6.545381e-01</td>\n",
       "      <td>2.726162e-01</td>\n",
       "      <td>1.839687e+02</td>\n",
       "      <td>1.069466e+02</td>\n",
       "      <td>5.132144e-01</td>\n",
       "    </tr>\n",
       "    <tr>\n",
       "      <th>max</th>\n",
       "      <td>7.654538e+00</td>\n",
       "      <td>5.272616e+00</td>\n",
       "      <td>9.339687e+02</td>\n",
       "      <td>5.149466e+02</td>\n",
       "      <td>4.513214e+00</td>\n",
       "    </tr>\n",
       "  </tbody>\n",
       "</table>\n",
       "</div>"
      ],
      "text/plain": [
       "           bedrooms     bathrooms   sqft_garage    sqft_patio     grade_num\n",
       "count  2.701600e+04  2.701600e+04  2.701600e+04  2.701600e+04  2.701600e+04\n",
       "mean  -1.159866e-16  2.748435e-17  3.635824e-14  1.427398e-14 -2.945691e-17\n",
       "std    9.552800e-01  7.916645e-01  2.595439e+02  1.682530e+02  9.866644e-01\n",
       "min   -3.345462e+00 -2.227384e+00 -3.060313e+02 -1.730534e+02 -6.486786e+00\n",
       "25%   -3.454619e-01 -2.273838e-01 -3.060313e+02 -1.430534e+02 -4.867856e-01\n",
       "50%   -3.454619e-01  2.726162e-01  5.396869e+01 -4.305338e+01 -4.867856e-01\n",
       "75%    6.545381e-01  2.726162e-01  1.839687e+02  1.069466e+02  5.132144e-01\n",
       "max    7.654538e+00  5.272616e+00  9.339687e+02  5.149466e+02  4.513214e+00"
      ]
     },
     "execution_count": 303,
     "metadata": {},
     "output_type": "execute_result"
    }
   ],
   "source": [
    "X_centered = df_model_iqr.drop(columns=['price', 'grade'])\n",
    "\n",
    "for col in X_centered.columns:\n",
    "    X_centered[col] = X_centered[col] - X_centered[col].mean()\n",
    "    \n",
    "X_centered.describe()"
   ]
  },
  {
   "cell_type": "code",
   "execution_count": 304,
   "metadata": {},
   "outputs": [
    {
     "data": {
      "text/plain": [
       "const          7.486786\n",
       "bedrooms      -0.026709\n",
       "bathrooms      0.562912\n",
       "sqft_garage    0.000960\n",
       "sqft_patio     0.000767\n",
       "dtype: float64"
      ]
     },
     "execution_count": 304,
     "metadata": {},
     "output_type": "execute_result"
    }
   ],
   "source": [
    "y = df_model_iqr['grade_num']\n",
    "X = X_centered.drop(columns=['grade_num'])\n",
    "\n",
    "model_centered = sm.OLS(endog=y, exog=sm.add_constant(X)).fit()\n",
    "\n",
    "model_centered.params"
   ]
  },
  {
   "cell_type": "code",
   "execution_count": null,
   "metadata": {},
   "outputs": [],
   "source": []
  },
  {
   "cell_type": "code",
   "execution_count": null,
   "metadata": {},
   "outputs": [],
   "source": []
  },
  {
   "cell_type": "code",
   "execution_count": null,
   "metadata": {},
   "outputs": [],
   "source": []
  },
  {
   "cell_type": "code",
   "execution_count": 305,
   "metadata": {},
   "outputs": [
    {
     "data": {
      "text/html": [
       "<div>\n",
       "<style scoped>\n",
       "    .dataframe tbody tr th:only-of-type {\n",
       "        vertical-align: middle;\n",
       "    }\n",
       "\n",
       "    .dataframe tbody tr th {\n",
       "        vertical-align: top;\n",
       "    }\n",
       "\n",
       "    .dataframe thead th {\n",
       "        text-align: right;\n",
       "    }\n",
       "</style>\n",
       "<table border=\"1\" class=\"dataframe\">\n",
       "  <thead>\n",
       "    <tr style=\"text-align: right;\">\n",
       "      <th></th>\n",
       "      <th>bedrooms</th>\n",
       "      <th>bathrooms</th>\n",
       "      <th>sqft_garage</th>\n",
       "      <th>sqft_patio</th>\n",
       "      <th>grade_num</th>\n",
       "    </tr>\n",
       "  </thead>\n",
       "  <tbody>\n",
       "    <tr>\n",
       "      <th>count</th>\n",
       "      <td>2.701600e+04</td>\n",
       "      <td>2.701600e+04</td>\n",
       "      <td>2.701600e+04</td>\n",
       "      <td>2.701600e+04</td>\n",
       "      <td>2.701600e+04</td>\n",
       "    </tr>\n",
       "    <tr>\n",
       "      <th>mean</th>\n",
       "      <td>-1.454435e-16</td>\n",
       "      <td>6.706707e-17</td>\n",
       "      <td>8.416260e-17</td>\n",
       "      <td>2.038313e-17</td>\n",
       "      <td>-2.288171e-17</td>\n",
       "    </tr>\n",
       "    <tr>\n",
       "      <th>std</th>\n",
       "      <td>1.000000e+00</td>\n",
       "      <td>1.000000e+00</td>\n",
       "      <td>1.000000e+00</td>\n",
       "      <td>1.000000e+00</td>\n",
       "      <td>1.000000e+00</td>\n",
       "    </tr>\n",
       "    <tr>\n",
       "      <th>min</th>\n",
       "      <td>-3.502075e+00</td>\n",
       "      <td>-2.813545e+00</td>\n",
       "      <td>-1.179112e+00</td>\n",
       "      <td>-1.028531e+00</td>\n",
       "      <td>-6.574460e+00</td>\n",
       "    </tr>\n",
       "    <tr>\n",
       "      <th>25%</th>\n",
       "      <td>-3.616342e-01</td>\n",
       "      <td>-2.872224e-01</td>\n",
       "      <td>-1.179112e+00</td>\n",
       "      <td>-8.502278e-01</td>\n",
       "      <td>-4.933649e-01</td>\n",
       "    </tr>\n",
       "    <tr>\n",
       "      <th>50%</th>\n",
       "      <td>-3.616342e-01</td>\n",
       "      <td>3.443583e-01</td>\n",
       "      <td>2.079366e-01</td>\n",
       "      <td>-2.558848e-01</td>\n",
       "      <td>-4.933649e-01</td>\n",
       "    </tr>\n",
       "    <tr>\n",
       "      <th>75%</th>\n",
       "      <td>6.851793e-01</td>\n",
       "      <td>3.443583e-01</td>\n",
       "      <td>7.088153e-01</td>\n",
       "      <td>6.356298e-01</td>\n",
       "      <td>5.201509e-01</td>\n",
       "    </tr>\n",
       "    <tr>\n",
       "      <th>max</th>\n",
       "      <td>8.012874e+00</td>\n",
       "      <td>6.660165e+00</td>\n",
       "      <td>3.598500e+00</td>\n",
       "      <td>3.060550e+00</td>\n",
       "      <td>4.574214e+00</td>\n",
       "    </tr>\n",
       "  </tbody>\n",
       "</table>\n",
       "</div>"
      ],
      "text/plain": [
       "           bedrooms     bathrooms   sqft_garage    sqft_patio     grade_num\n",
       "count  2.701600e+04  2.701600e+04  2.701600e+04  2.701600e+04  2.701600e+04\n",
       "mean  -1.454435e-16  6.706707e-17  8.416260e-17  2.038313e-17 -2.288171e-17\n",
       "std    1.000000e+00  1.000000e+00  1.000000e+00  1.000000e+00  1.000000e+00\n",
       "min   -3.502075e+00 -2.813545e+00 -1.179112e+00 -1.028531e+00 -6.574460e+00\n",
       "25%   -3.616342e-01 -2.872224e-01 -1.179112e+00 -8.502278e-01 -4.933649e-01\n",
       "50%   -3.616342e-01  3.443583e-01  2.079366e-01 -2.558848e-01 -4.933649e-01\n",
       "75%    6.851793e-01  3.443583e-01  7.088153e-01  6.356298e-01  5.201509e-01\n",
       "max    8.012874e+00  6.660165e+00  3.598500e+00  3.060550e+00  4.574214e+00"
      ]
     },
     "execution_count": 305,
     "metadata": {},
     "output_type": "execute_result"
    }
   ],
   "source": [
    "# Standardize data so mean = 0 and standard deviation = 1\n",
    "\n",
    "X_standardized = df_model_iqr.drop(columns=['price', 'grade'])\n",
    "\n",
    "for col in X_standardized:\n",
    "    X_standardized[col] = (X_standardized[col] - X_standardized[col].mean()) \\\n",
    "                            / X_standardized[col].std()\n",
    "    \n",
    "X_standardized.describe()"
   ]
  },
  {
   "cell_type": "code",
   "execution_count": 306,
   "metadata": {},
   "outputs": [
    {
     "data": {
      "text/html": [
       "<table class=\"simpletable\">\n",
       "<caption>OLS Regression Results</caption>\n",
       "<tr>\n",
       "  <th>Dep. Variable:</th>        <td>grade_num</td>    <th>  R-squared:         </th> <td>   0.405</td> \n",
       "</tr>\n",
       "<tr>\n",
       "  <th>Model:</th>                   <td>OLS</td>       <th>  Adj. R-squared:    </th> <td>   0.404</td> \n",
       "</tr>\n",
       "<tr>\n",
       "  <th>Method:</th>             <td>Least Squares</td>  <th>  F-statistic:       </th> <td>   4588.</td> \n",
       "</tr>\n",
       "<tr>\n",
       "  <th>Date:</th>             <td>Wed, 15 Feb 2023</td> <th>  Prob (F-statistic):</th>  <td>  0.00</td>  \n",
       "</tr>\n",
       "<tr>\n",
       "  <th>Time:</th>                 <td>17:10:43</td>     <th>  Log-Likelihood:    </th> <td> -30968.</td> \n",
       "</tr>\n",
       "<tr>\n",
       "  <th>No. Observations:</th>      <td> 27016</td>      <th>  AIC:               </th> <td>6.195e+04</td>\n",
       "</tr>\n",
       "<tr>\n",
       "  <th>Df Residuals:</th>          <td> 27011</td>      <th>  BIC:               </th> <td>6.199e+04</td>\n",
       "</tr>\n",
       "<tr>\n",
       "  <th>Df Model:</th>              <td>     4</td>      <th>                     </th>     <td> </td>    \n",
       "</tr>\n",
       "<tr>\n",
       "  <th>Covariance Type:</th>      <td>nonrobust</td>    <th>                     </th>     <td> </td>    \n",
       "</tr>\n",
       "</table>\n",
       "<table class=\"simpletable\">\n",
       "<tr>\n",
       "       <td></td>          <th>coef</th>     <th>std err</th>      <th>t</th>      <th>P>|t|</th>  <th>[0.025</th>    <th>0.975]</th>  \n",
       "</tr>\n",
       "<tr>\n",
       "  <th>const</th>       <td>    7.4868</td> <td>    0.005</td> <td> 1616.144</td> <td> 0.000</td> <td>    7.478</td> <td>    7.496</td>\n",
       "</tr>\n",
       "<tr>\n",
       "  <th>bedrooms</th>    <td>   -0.0255</td> <td>    0.006</td> <td>   -4.551</td> <td> 0.000</td> <td>   -0.037</td> <td>   -0.015</td>\n",
       "</tr>\n",
       "<tr>\n",
       "  <th>bathrooms</th>   <td>    0.4456</td> <td>    0.006</td> <td>   73.833</td> <td> 0.000</td> <td>    0.434</td> <td>    0.457</td>\n",
       "</tr>\n",
       "<tr>\n",
       "  <th>sqft_garage</th> <td>    0.2491</td> <td>    0.005</td> <td>   48.414</td> <td> 0.000</td> <td>    0.239</td> <td>    0.259</td>\n",
       "</tr>\n",
       "<tr>\n",
       "  <th>sqft_patio</th>  <td>    0.1291</td> <td>    0.005</td> <td>   26.862</td> <td> 0.000</td> <td>    0.120</td> <td>    0.138</td>\n",
       "</tr>\n",
       "</table>\n",
       "<table class=\"simpletable\">\n",
       "<tr>\n",
       "  <th>Omnibus:</th>       <td>514.982</td> <th>  Durbin-Watson:     </th> <td>   2.003</td> \n",
       "</tr>\n",
       "<tr>\n",
       "  <th>Prob(Omnibus):</th> <td> 0.000</td>  <th>  Jarque-Bera (JB):  </th> <td> 821.199</td> \n",
       "</tr>\n",
       "<tr>\n",
       "  <th>Skew:</th>          <td> 0.189</td>  <th>  Prob(JB):          </th> <td>4.78e-179</td>\n",
       "</tr>\n",
       "<tr>\n",
       "  <th>Kurtosis:</th>      <td> 3.765</td>  <th>  Cond. No.          </th> <td>    2.20</td> \n",
       "</tr>\n",
       "</table><br/><br/>Notes:<br/>[1] Standard Errors assume that the covariance matrix of the errors is correctly specified."
      ],
      "text/plain": [
       "<class 'statsmodels.iolib.summary.Summary'>\n",
       "\"\"\"\n",
       "                            OLS Regression Results                            \n",
       "==============================================================================\n",
       "Dep. Variable:              grade_num   R-squared:                       0.405\n",
       "Model:                            OLS   Adj. R-squared:                  0.404\n",
       "Method:                 Least Squares   F-statistic:                     4588.\n",
       "Date:                Wed, 15 Feb 2023   Prob (F-statistic):               0.00\n",
       "Time:                        17:10:43   Log-Likelihood:                -30968.\n",
       "No. Observations:               27016   AIC:                         6.195e+04\n",
       "Df Residuals:                   27011   BIC:                         6.199e+04\n",
       "Df Model:                           4                                         \n",
       "Covariance Type:            nonrobust                                         \n",
       "===============================================================================\n",
       "                  coef    std err          t      P>|t|      [0.025      0.975]\n",
       "-------------------------------------------------------------------------------\n",
       "const           7.4868      0.005   1616.144      0.000       7.478       7.496\n",
       "bedrooms       -0.0255      0.006     -4.551      0.000      -0.037      -0.015\n",
       "bathrooms       0.4456      0.006     73.833      0.000       0.434       0.457\n",
       "sqft_garage     0.2491      0.005     48.414      0.000       0.239       0.259\n",
       "sqft_patio      0.1291      0.005     26.862      0.000       0.120       0.138\n",
       "==============================================================================\n",
       "Omnibus:                      514.982   Durbin-Watson:                   2.003\n",
       "Prob(Omnibus):                  0.000   Jarque-Bera (JB):              821.199\n",
       "Skew:                           0.189   Prob(JB):                    4.78e-179\n",
       "Kurtosis:                       3.765   Cond. No.                         2.20\n",
       "==============================================================================\n",
       "\n",
       "Notes:\n",
       "[1] Standard Errors assume that the covariance matrix of the errors is correctly specified.\n",
       "\"\"\""
      ]
     },
     "execution_count": 306,
     "metadata": {},
     "output_type": "execute_result"
    }
   ],
   "source": [
    "y = df_model_iqr['grade_num']\n",
    "X = X_standardized.drop(columns=['grade_num'])\n",
    "\n",
    "grade_model_std = sm.OLS(endog=y, exog=sm.add_constant(X)).fit()\n",
    "\n",
    "grade_model_std.summary()"
   ]
  },
  {
   "cell_type": "code",
   "execution_count": 307,
   "metadata": {},
   "outputs": [
    {
     "data": {
      "text/plain": [
       "0.7614228229469279"
      ]
     },
     "execution_count": 307,
     "metadata": {},
     "output_type": "execute_result"
    }
   ],
   "source": [
    "np.sqrt(grade_model_std.mse_resid)"
   ]
  },
  {
   "cell_type": "code",
   "execution_count": 308,
   "metadata": {
    "scrolled": true
   },
   "outputs": [
    {
     "data": {
      "image/png": "[encoded data removed]",
      "text/plain": [
       "<Figure size 864x576 with 4 Axes>"
      ]
     },
     "metadata": {},
     "output_type": "display_data"
    }
   ],
   "source": [
    "fig = plt.figure(figsize=(12,8))\n",
    "sm.graphics.plot_regress_exog(grade_model_std, 'bathrooms', fig=fig)\n",
    "plt.show()"
   ]
  },
  {
   "cell_type": "code",
   "execution_count": 309,
   "metadata": {},
   "outputs": [
    {
     "data": {
      "text/plain": [
       "(259.5438993747928, 360.0)"
      ]
     },
     "execution_count": 309,
     "metadata": {},
     "output_type": "execute_result"
    }
   ],
   "source": [
    "df_model_iqr['sqft_garage'].std(), df_model_iqr['sqft_garage'].median()"
   ]
  },
  {
   "cell_type": "code",
   "execution_count": null,
   "metadata": {},
   "outputs": [],
   "source": []
  }
 ],
 "metadata": {
  "kernelspec": {
   "display_name": "Python 3",
   "language": "python",
   "name": "python3"
  },
  "language_info": {
   "codemirror_mode": {
    "name": "ipython",
    "version": 3
   },
   "file_extension": ".py",
   "mimetype": "text/x-python",
   "name": "python",
   "nbconvert_exporter": "python",
   "pygments_lexer": "ipython3",
   "version": "3.8.5"
  }
 },
 "nbformat": 4,
 "nbformat_minor": 2
}
